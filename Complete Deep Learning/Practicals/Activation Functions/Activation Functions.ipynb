{
 "cells": [
  {
   "cell_type": "markdown",
   "metadata": {},
   "source": [
    "# Activation Function\n",
    "\n",
    "Activation functions helps to determine the output of a neural network. These type of functions are attached to each neuron in the network, and determines whether it should be activated or not, based on whether each neuron’s input is relevant for the model’s prediction. \n",
    "\n",
    "> Activation function also helps to normalize the output of each neuron to a range between 1 and 0 or between -1 and 1.\n",
    "\n",
    "\n",
    "![alt](img/1.jpg)\n",
    "\n",
    "In a neural network, inputs are fed into the neurons in the input layer. Each neuron has a weight, and multiplying the input number with the weight gives the output of the neuron, which is transferred to the next layer.\n",
    "\n",
    "The activation function is a mathematical “gate” in between the input feeding the current neuron and its output going to the next layer. It can be as simple as a step function that turns the neuron output on and off, depending on a rule or threshold.\n",
    "\n",
    "\n",
    "> Neural networks use non-linear activation functions, which can help the network learn complex data, compute and learn almost any function representing a question, and provide accurate predictions."
   ]
  },
  {
   "cell_type": "markdown",
   "metadata": {},
   "source": [
    "## Commonly used activation functions"
   ]
  },
  {
   "cell_type": "markdown",
   "metadata": {},
   "source": [
    "### **1.   Sigmod function**\n",
    "\n",
    "\n",
    "\n",
    "The function formula and chart are as follows\n",
    "\n",
    "![alt](img/sig.svg)\n",
    "\n",
    "![alt](img/2.png)"
   ]
  },
  {
   "cell_type": "markdown",
   "metadata": {},
   "source": [
    "The Sigmoid function is the most frequently used activation function in the beginning of deep learning. It is a smoothing function that is easy to derive.\n",
    "\n",
    "In the sigmoid function, we can see that its output is in the open interval (0,1). We can think of probability, but in the strict sense, don't treat it as probability. The sigmoid function was once more popular. It can be thought of as the firing rate of a neuron. In the middle where the slope is relatively large, it is the sensitive area of the neuron. On the sides where the slope is very gentle, it is the neuron's inhibitory area.\n",
    "\n",
    "The function itself has certain defects.\n",
    "\n",
    "1) When the input is slightly away from the coordinate origin, the gradient of the function becomes very small, almost zero. In the process of neural network backpropagation, we all use the chain rule of differential to calculate the differential of each weight w. When the backpropagation passes through the sigmod function, the differential on this chain is very small. Moreover, it may pass through many sigmod functions, which will eventually cause the weight w to have little effect on the loss function, which is not conducive to the optimization of the weight. This The problem is called gradient saturation or gradient dispersion.\n",
    "\n",
    "2) The function output is not centered on 0, which will reduce the efficiency of weight update.\n",
    "\n",
    "3) The sigmod function performs exponential operations, which is slower for computers.\n",
    "\n",
    "\n",
    "Advantages of Sigmoid Function : -\n",
    "\n",
    "1. Smooth gradient, preventing “jumps” in output values.\n",
    "2. Output values bound between 0 and 1, normalizing the output of each neuron.\n",
    "3. Clear predictions, i.e very close to 1 or 0.\n",
    "\n",
    "\n",
    "Sigmoid has three major disadvantages:\n",
    "* Prone to gradient vanishing\n",
    "* Function output is not zero-centered\n",
    "* Power operations are relatively time consuming\n"
   ]
  },
  {
   "cell_type": "markdown",
   "metadata": {},
   "source": [
    "### **2.  tanh function**\n",
    "\n",
    "The tanh function formula and curve are as follows\n",
    "\n",
    "![alt](img/tan.svg)\n",
    "![alt](img/3.png)\n",
    "\n",
    "Tanh is a hyperbolic tangent function. The curves of tanh function and sigmod function are relatively similar. Let ’s compare them. First of all, when the input is large or small, the output is almost smooth and the gradient is small, which is not conducive to weight update. The difference is the output interval. \n",
    "\n",
    "The output interval of tanh is 1), and the whole function is 0-centric, which is better than sigmod.\n",
    "\n",
    "In general binary classification problems, the tanh function is used for the hidden layer and the sigmod function is used for the output layer. However, these are not static, and the specific activation function to be used must be analyzed according to the specific problem, or it depends on debugging."
   ]
  },
  {
   "cell_type": "markdown",
   "metadata": {},
   "source": [
    "### **3.  ReLU function**\n",
    "\n",
    "ReLU function formula and curve are as follows\n",
    "\n",
    "![alt](img/relu.svg)\n",
    "![alt](img/relu.png)\n",
    "\n",
    "The ReLU function is actually a function that takes the maximum value. Note that this is not fully interval-derivable, but we can take sub-gradient, as shown in the figure above. Although ReLU is simple, it is an important achievement in recent years.\n",
    "\n",
    "The ReLU (Rectified Linear Unit) function is an activation function that is currently more popular. Compared with the sigmod function and the tanh function, it has the following advantages:\n",
    "\n",
    "1) When the input is positive, there is no gradient saturation problem.\n",
    "\n",
    "2) The calculation speed is much faster. The ReLU function has only a linear relationship. Whether it is forward or backward, it is much faster than sigmod and tanh. (Sigmod and tanh need to calculate the exponent, which will be slower.)\n",
    "\n",
    "Ofcourse, there are disadvantages:\n",
    "\n",
    "1) When the input is negative, ReLU is completely inactive, which means that once a negative number is entered, ReLU will die. In this way, in the forward propagation process, it is not a problem. Some areas are sensitive and some are insensitive. But in the backpropagation process, if you enter a negative number, the gradient will be completely zero, which has the same problem as the sigmod function and tanh function.\n",
    "\n",
    "2) We find that the output of the ReLU function is either 0 or a positive number, which means that the ReLU function is not a 0-centric function."
   ]
  },
  {
   "cell_type": "markdown",
   "metadata": {},
   "source": [
    "### 4. Leaky ReLU function\n",
    "\n",
    "![alt](img/lrelu.svg)\n",
    "![alt](img/lrelu.png)\n",
    "\n",
    "In order to solve the Dead ReLU Problem, people proposed to set the first half of ReLU 0.01x instead of 0. Another intuitive idea is a parameter-based method, Parametric ReLU : f(x)= max(alpha x,x), which alpha can be learned from back propagation. In theory, Leaky ReLU has all the advantages of ReLU, plus there will be no problems with Dead ReLU, but in actual operation, it has not been fully proved that Leaky ReLU is always better than ReLU."
   ]
  },
  {
   "cell_type": "markdown",
   "metadata": {},
   "source": [
    "### 5. ELU (Exponential Linear Units) function\n",
    "\n",
    "![alt](img/elu.svg)\n",
    "![alt](img/elu.jpg)\n",
    "\n",
    "ELU is also proposed to solve the problems of ReLU. Obviously, ELU has all the advantages of ReLU, and:\n",
    "\n",
    "* No Dead ReLU issues\n",
    "* The mean of the output is close to 0, zero-centered\n",
    "\n",
    "One small problem is that it is slightly more computationally intensive. Similar to Leaky ReLU, although theoretically better than ReLU, there is currently no good evidence in practice that ELU is always better than ReLU."
   ]
  },
  {
   "cell_type": "markdown",
   "metadata": {},
   "source": [
    "### 6.  Softmax\n",
    "\n",
    "![alt](img/soft.png)\n",
    "\n",
    "\n",
    "for an arbitrary real vector of length K, Softmax can compress it into a real vector of length K with a value in the range (0, 1), and the sum of the elements in the vector is 1. \n",
    "\n",
    "It also has many applications in Multiclass Classification and neural networks. Softmax is different from the normal max function: the max function only outputs the largest value, and Softmax ensures that smaller values have a smaller probability and will not be discarded directly. It is a \"max\" that is \"soft\".\n",
    "\n",
    "The denominator of the Softmax function combines all factors of the original output value, which means that the different probabilities obtained by the Softmax function are related to each other.\n",
    "In the case of binary classification, for Sigmoid, there are:\n",
    "\n",
    "![alt](img/soft1.png)\n",
    "\n",
    "For Softmax with K = 2, there are:\n",
    "\n",
    "![alt](img/soft2.png)\n",
    "\n",
    "\n",
    "Among them: It\n",
    "\n",
    "![alt](img/soft4.png)\n",
    "\n",
    "can be seen that in the case of binary classification, Softmax is degraded to Sigmoid.\n",
    "\n",
    "![alt](img/soft31.png)\n",
    "    \n"
   ]
  },
  {
   "cell_type": "markdown",
   "metadata": {},
   "source": [
    "### 7.  PRelu (Parametric ReLU)\n",
    "\n",
    "![alt](img/CAPTURE.png)\n",
    "\n",
    "PReLU is also an improved version of ReLU. In the negative region, PReLU has a small slope, which can also avoid the problem of ReLU death. Compared to ELU, PReLU is a linear operation in the negative region. Although the slope is small, it does not tend to 0, which is a certain advantage.\n",
    "\n",
    "![alt](img/CAPTURE1.png)\n",
    "\n",
    "We look at the formula of PReLU. The parameter α is generally a number between 0 and 1, and it is generally relatively small, such as a few zeros. When α = 0.01, we call PReLU as Leaky Relu , it is regarded as a special case PReLU it.\n",
    "\n",
    "Above, yᵢ is any input on the ith channel and aᵢ is the negative slope which is a learnable parameter.\n",
    "* if aᵢ=0, f becomes ReLU\n",
    "* if aᵢ>0, f becomes leaky ReLU\n",
    "* if aᵢ is a learnable parameter, f becomes PReLU"
   ]
  },
  {
   "cell_type": "markdown",
   "metadata": {},
   "source": [
    "### 8. Swish (A Self-Gated) Function\n",
    "\n",
    "![alt](img/swish.png)\n",
    "\n",
    "The formula is: **y = x * sigmoid (x)**\n",
    "\n",
    "Swish's design was inspired by the use of sigmoid functions for gating in LSTMs and highway networks. We use the same value for gating to simplify the gating mechanism, which is called **self-gating**. \n",
    "\n",
    "The advantage of self-gating is that it only requires a simple scalar input, while normal gating requires multiple scalar inputs. This feature enables self-gated activation functions such as Swish to easily replace activation functions that take a single scalar as input (such as ReLU) without changing the hidden capacity or number of parameters.\n",
    "\n",
    "1) Unboundedness (unboundedness) is helpful to prevent gradient from gradually approaching 0 during slow training, causing saturation. At the same time, being bounded has advantages, because bounded active functions can have strong reguairzation, and larger negative inputs will be resolved.\n",
    "\n",
    "2) At the same time, smoothness also plays an important role in optimization and generalization.\n",
    "\n"
   ]
  },
  {
   "cell_type": "markdown",
   "metadata": {},
   "source": [
    "### 9.  Maxout\n",
    "\n",
    "The Maxout activation function is defined as follows\n",
    "\n",
    "![alt](img/max.jpeg)\n",
    "\n",
    "One relatively popular choice is the Maxout neuron (introduced recently by Goodfellow et al.) that generalizes the ReLU and its leaky version. Notice that both ReLU and Leaky ReLU are a special case of this form (for example, for ReLU we have w1,b1 =0).The Maxout neuron therefore enjoys all the benefits of a ReLU unit (linear regime of operation, no saturation) and does not have its drawbacks\n",
    "\n",
    "The Maxout activation is a generalization of the ReLU and the leaky ReLU functions. It is a learnable activation function.\n",
    "\n",
    "Maxout can be seen as adding a layer of activation function to the deep learning network, which contains a parameter k. Compared with ReLU, sigmoid, etc., this layer is special in that it adds k neurons and then outputs the largest activation value. value.\n"
   ]
  },
  {
   "cell_type": "markdown",
   "metadata": {},
   "source": [
    "### 10.  Softplus\n",
    "\n",
    "![alt](img/softplus.png)\n",
    "\n",
    "The softplus function is similar to the ReLU function, but it is relatively smooth.It is unilateral suppression like ReLU.It has a wide acceptance range (0, + inf).\n",
    "\n",
    "Softplus function: **f(x) = ln(1+exp x)**\n",
    "\n"
   ]
  },
  {
   "cell_type": "markdown",
   "metadata": {},
   "source": [
    "## **------------------------------------------------------NOTE--------------------------------------------------------------**\n",
    "\n",
    "## **Generally speaking, these activation functions have their own advantages and disadvantages. There is no statement that indicates which ones are not working, and which activation functions are good. All the good and bad must be obtained by experiments.**"
   ]
  },
  {
   "cell_type": "code",
   "execution_count": null,
   "metadata": {},
   "outputs": [],
   "source": []
  }
 ],
 "metadata": {
  "kernelspec": {
   "display_name": "Python 3",
   "language": "python",
   "name": "python3"
  },
  "language_info": {
   "codemirror_mode": {
    "name": "ipython",
    "version": 3
   },
   "file_extension": ".py",
   "mimetype": "text/x-python",
   "name": "python",
   "nbconvert_exporter": "python",
   "pygments_lexer": "ipython3",
   "version": "3.8.5"
  }
 },
 "nbformat": 4,
 "nbformat_minor": 2
}

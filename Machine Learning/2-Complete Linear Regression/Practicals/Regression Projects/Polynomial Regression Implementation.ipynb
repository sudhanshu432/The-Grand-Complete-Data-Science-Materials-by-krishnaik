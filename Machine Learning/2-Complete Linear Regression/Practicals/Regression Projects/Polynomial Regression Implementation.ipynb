{
 "cells": [
  {
   "cell_type": "code",
   "execution_count": 4,
   "metadata": {},
   "outputs": [],
   "source": [
    "##import libraries\n",
    "import numpy as np\n",
    "import pandas as pd\n",
    "import matplotlib.pyplot as plt\n",
    "%matplotlib inline "
   ]
  },
  {
   "cell_type": "code",
   "execution_count": 9,
   "metadata": {},
   "outputs": [
    {
     "data": {
      "text/plain": [
       "Text(0, 0.5, 'Y dataset')"
      ]
     },
     "execution_count": 9,
     "metadata": {},
     "output_type": "execute_result"
    },
    {
     "data": {
      "image/png": "[encoded data removed]",
      "text/plain": [
       "<Figure size 432x288 with 1 Axes>"
      ]
     },
     "metadata": {
      "needs_background": "light"
     },
     "output_type": "display_data"
    }
   ],
   "source": [
    "X = 6 * np.random.rand(100, 1) - 3\n",
    "y =0.5 * X**2 + 1.5*X + 2 + np.random.randn(100, 1)\n",
    "# quadratic equation used- y=0.5x^2+1.5x+2+outliers\n",
    "plt.scatter(X,y,color='g')\n",
    "plt.xlabel('X dataset')\n",
    "plt.ylabel('Y dataset')"
   ]
  },
  {
   "cell_type": "code",
   "execution_count": 11,
   "metadata": {},
   "outputs": [],
   "source": [
    "from sklearn.model_selection import train_test_split\n",
    "X_train,X_test,y_train,y_test=train_test_split(X,y,test_size=0.2,random_state=42)"
   ]
  },
  {
   "cell_type": "code",
   "execution_count": 12,
   "metadata": {},
   "outputs": [],
   "source": [
    "## Lets implement Simple Linear Regression\n",
    "from sklearn.linear_model import LinearRegression\n",
    "regression_1=LinearRegression()"
   ]
  },
  {
   "cell_type": "code",
   "execution_count": null,
   "metadata": {},
   "outputs": [],
   "source": []
  },
  {
   "cell_type": "code",
   "execution_count": 14,
   "metadata": {},
   "outputs": [
    {
     "data": {
      "text/plain": [
       "LinearRegression()"
      ]
     },
     "execution_count": 14,
     "metadata": {},
     "output_type": "execute_result"
    }
   ],
   "source": [
    "regression_1.fit(X_train,y_train)"
   ]
  },
  {
   "cell_type": "code",
   "execution_count": 16,
   "metadata": {},
   "outputs": [
    {
     "name": "stdout",
     "output_type": "stream",
     "text": [
      "0.6258604495084354\n"
     ]
    }
   ],
   "source": [
    "from sklearn.metrics import r2_score\n",
    "score=r2_score(y_test,regression_1.predict(X_test))\n",
    "print(score)"
   ]
  },
  {
   "cell_type": "code",
   "execution_count": 18,
   "metadata": {},
   "outputs": [
    {
     "data": {
      "text/plain": [
       "Text(0, 0.5, 'Y')"
      ]
     },
     "execution_count": 18,
     "metadata": {},
     "output_type": "execute_result"
    },
    {
     "data": {
      "image/png": "[encoded data removed]",
      "text/plain": [
       "<Figure size 432x288 with 1 Axes>"
      ]
     },
     "metadata": {
      "needs_background": "light"
     },
     "output_type": "display_data"
    }
   ],
   "source": [
    "## Lets visualize this model\n",
    "plt.plot(X_train,regression_1.predict(X_train),color='r')\n",
    "plt.scatter(X_train,y_train)\n",
    "plt.xlabel(\"X Dataset\")\n",
    "plt.ylabel(\"Y\")\n"
   ]
  },
  {
   "cell_type": "code",
   "execution_count": 19,
   "metadata": {},
   "outputs": [],
   "source": [
    "#LEts apply polynomial transformation\n",
    "from sklearn.preprocessing import PolynomialFeatures"
   ]
  },
  {
   "cell_type": "code",
   "execution_count": 20,
   "metadata": {},
   "outputs": [],
   "source": [
    "poly=PolynomialFeatures(degree=2,include_bias=True)\n",
    "X_train_poly=poly.fit_transform(X_train)\n",
    "X_test_poly=poly.transform(X_test)"
   ]
  },
  {
   "cell_type": "code",
   "execution_count": 21,
   "metadata": {},
   "outputs": [
    {
     "data": {
      "text/plain": [
       "array([[ 1.00000000e+00, -2.74888188e+00,  7.55635156e+00],\n",
       "       [ 1.00000000e+00,  1.43055517e+00,  2.04648809e+00],\n",
       "       [ 1.00000000e+00,  5.90335028e-01,  3.48495446e-01],\n",
       "       [ 1.00000000e+00,  8.12149214e-01,  6.59586345e-01],\n",
       "       [ 1.00000000e+00,  3.66109686e-01,  1.34036303e-01],\n",
       "       [ 1.00000000e+00,  1.16597431e+00,  1.35949609e+00],\n",
       "       [ 1.00000000e+00, -3.31206334e-01,  1.09697636e-01],\n",
       "       [ 1.00000000e+00, -2.72438731e+00,  7.42228621e+00],\n",
       "       [ 1.00000000e+00, -1.75407407e+00,  3.07677584e+00],\n",
       "       [ 1.00000000e+00, -2.33894500e+00,  5.47066371e+00],\n",
       "       [ 1.00000000e+00,  2.90177215e+00,  8.42028158e+00],\n",
       "       [ 1.00000000e+00, -6.90515463e-01,  4.76811605e-01],\n",
       "       [ 1.00000000e+00, -1.16779767e+00,  1.36375141e+00],\n",
       "       [ 1.00000000e+00, -9.74366994e-01,  9.49391039e-01],\n",
       "       [ 1.00000000e+00, -1.84913689e+00,  3.41930725e+00],\n",
       "       [ 1.00000000e+00, -2.22897028e+00,  4.96830852e+00],\n",
       "       [ 1.00000000e+00,  2.90475311e+00,  8.43759060e+00],\n",
       "       [ 1.00000000e+00,  2.76540282e+00,  7.64745273e+00],\n",
       "       [ 1.00000000e+00,  1.81653747e-01,  3.29980837e-02],\n",
       "       [ 1.00000000e+00,  2.98247392e+00,  8.89515071e+00],\n",
       "       [ 1.00000000e+00,  6.20439630e-02,  3.84945335e-03],\n",
       "       [ 1.00000000e+00,  2.72378506e+00,  7.41900504e+00],\n",
       "       [ 1.00000000e+00,  1.57689605e+00,  2.48660115e+00],\n",
       "       [ 1.00000000e+00,  2.38227522e+00,  5.67523522e+00],\n",
       "       [ 1.00000000e+00, -1.31982776e+00,  1.74194531e+00],\n",
       "       [ 1.00000000e+00,  2.14015731e+00,  4.58027331e+00],\n",
       "       [ 1.00000000e+00,  4.04438649e-01,  1.63570621e-01],\n",
       "       [ 1.00000000e+00,  6.41599445e-01,  4.11649847e-01],\n",
       "       [ 1.00000000e+00, -1.54898329e+00,  2.39934922e+00],\n",
       "       [ 1.00000000e+00, -1.34560552e+00,  1.81065422e+00],\n",
       "       [ 1.00000000e+00,  2.88459805e+00,  8.32090592e+00],\n",
       "       [ 1.00000000e+00, -1.53502308e+00,  2.35629585e+00],\n",
       "       [ 1.00000000e+00, -2.74044436e+00,  7.51003530e+00],\n",
       "       [ 1.00000000e+00, -2.37748636e+00,  5.65244141e+00],\n",
       "       [ 1.00000000e+00,  1.48646577e+00,  2.20958049e+00],\n",
       "       [ 1.00000000e+00, -1.71238020e+00,  2.93224597e+00],\n",
       "       [ 1.00000000e+00,  2.03548332e+00,  4.14319233e+00],\n",
       "       [ 1.00000000e+00, -1.17633641e+00,  1.38376736e+00],\n",
       "       [ 1.00000000e+00, -2.17206826e+00,  4.71788052e+00],\n",
       "       [ 1.00000000e+00,  2.29770897e+00,  5.27946650e+00],\n",
       "       [ 1.00000000e+00, -3.28405762e-01,  1.07850344e-01],\n",
       "       [ 1.00000000e+00,  9.48361078e-01,  8.99388734e-01],\n",
       "       [ 1.00000000e+00,  6.53633998e-02,  4.27237404e-03],\n",
       "       [ 1.00000000e+00, -8.42291468e-01,  7.09454917e-01],\n",
       "       [ 1.00000000e+00,  1.32384602e+00,  1.75256828e+00],\n",
       "       [ 1.00000000e+00,  2.79692305e+00,  7.82277856e+00],\n",
       "       [ 1.00000000e+00, -2.98722587e+00,  8.92351841e+00],\n",
       "       [ 1.00000000e+00,  5.88811141e-01,  3.46698559e-01],\n",
       "       [ 1.00000000e+00, -1.45924666e+00,  2.12940082e+00],\n",
       "       [ 1.00000000e+00,  1.57421615e+00,  2.47815648e+00],\n",
       "       [ 1.00000000e+00, -2.18117707e+00,  4.75753342e+00],\n",
       "       [ 1.00000000e+00,  1.05998407e+00,  1.12356623e+00],\n",
       "       [ 1.00000000e+00, -6.51568696e-01,  4.24541765e-01],\n",
       "       [ 1.00000000e+00,  1.67352100e-01,  2.80067254e-02],\n",
       "       [ 1.00000000e+00,  2.66287718e+00,  7.09091488e+00],\n",
       "       [ 1.00000000e+00, -2.02883126e+00,  4.11615630e+00],\n",
       "       [ 1.00000000e+00, -1.51118982e+00,  2.28369468e+00],\n",
       "       [ 1.00000000e+00, -1.84252834e+00,  3.39491068e+00],\n",
       "       [ 1.00000000e+00, -1.07136262e+00,  1.14781785e+00],\n",
       "       [ 1.00000000e+00,  9.97213919e-01,  9.94435599e-01],\n",
       "       [ 1.00000000e+00,  1.51736778e+00,  2.30240497e+00],\n",
       "       [ 1.00000000e+00,  2.39182148e+00,  5.72081002e+00],\n",
       "       [ 1.00000000e+00, -1.86558636e+00,  3.48041246e+00],\n",
       "       [ 1.00000000e+00, -4.57496373e-01,  2.09302931e-01],\n",
       "       [ 1.00000000e+00, -1.68216491e-01,  2.82967880e-02],\n",
       "       [ 1.00000000e+00, -1.18273184e-01,  1.39885461e-02],\n",
       "       [ 1.00000000e+00,  2.98594938e+00,  8.91589371e+00],\n",
       "       [ 1.00000000e+00, -5.55373741e-01,  3.08439992e-01],\n",
       "       [ 1.00000000e+00, -6.37420188e-02,  4.06304496e-03],\n",
       "       [ 1.00000000e+00, -2.82811213e+00,  7.99821821e+00],\n",
       "       [ 1.00000000e+00, -1.20194221e+00,  1.44466507e+00],\n",
       "       [ 1.00000000e+00, -2.93675059e+00,  8.62450403e+00],\n",
       "       [ 1.00000000e+00, -2.42876800e+00,  5.89891398e+00],\n",
       "       [ 1.00000000e+00,  6.02873835e-01,  3.63456861e-01],\n",
       "       [ 1.00000000e+00, -1.89233256e+00,  3.58092252e+00],\n",
       "       [ 1.00000000e+00,  1.74384467e+00,  3.04099423e+00],\n",
       "       [ 1.00000000e+00, -1.59039281e-01,  2.52934931e-02],\n",
       "       [ 1.00000000e+00,  3.17628577e-02,  1.00887913e-03],\n",
       "       [ 1.00000000e+00, -1.13953099e+00,  1.29853087e+00],\n",
       "       [ 1.00000000e+00,  2.62214178e+00,  6.87562751e+00]])"
      ]
     },
     "execution_count": 21,
     "metadata": {},
     "output_type": "execute_result"
    }
   ],
   "source": [
    "X_train_poly"
   ]
  },
  {
   "cell_type": "code",
   "execution_count": 22,
   "metadata": {},
   "outputs": [
    {
     "data": {
      "text/plain": [
       "array([[ 1.00000000e+00, -1.67504154e+00,  2.80576417e+00],\n",
       "       [ 1.00000000e+00,  2.04814890e+00,  4.19491392e+00],\n",
       "       [ 1.00000000e+00, -7.77663328e-01,  6.04760251e-01],\n",
       "       [ 1.00000000e+00, -2.82542840e+00,  7.98304562e+00],\n",
       "       [ 1.00000000e+00,  1.95122921e+00,  3.80729543e+00],\n",
       "       [ 1.00000000e+00, -1.63621585e+00,  2.67720230e+00],\n",
       "       [ 1.00000000e+00, -8.15172988e-01,  6.64507000e-01],\n",
       "       [ 1.00000000e+00,  6.74398175e-01,  4.54812899e-01],\n",
       "       [ 1.00000000e+00, -2.63726054e+00,  6.95514315e+00],\n",
       "       [ 1.00000000e+00, -1.86307438e-01,  3.47104614e-02],\n",
       "       [ 1.00000000e+00, -2.62472160e+00,  6.88916348e+00],\n",
       "       [ 1.00000000e+00, -2.93340573e+00,  8.60486920e+00],\n",
       "       [ 1.00000000e+00, -1.55858596e+00,  2.42919020e+00],\n",
       "       [ 1.00000000e+00,  2.72476472e+00,  7.42434278e+00],\n",
       "       [ 1.00000000e+00,  1.69168227e-01,  2.86178890e-02],\n",
       "       [ 1.00000000e+00,  4.44943540e-02,  1.97974754e-03],\n",
       "       [ 1.00000000e+00,  1.81130598e+00,  3.28082936e+00],\n",
       "       [ 1.00000000e+00,  1.34073538e+00,  1.79757135e+00],\n",
       "       [ 1.00000000e+00, -2.15652733e+00,  4.65061014e+00],\n",
       "       [ 1.00000000e+00,  1.07671762e+00,  1.15932084e+00]])"
      ]
     },
     "execution_count": 22,
     "metadata": {},
     "output_type": "execute_result"
    }
   ],
   "source": [
    "X_test_poly"
   ]
  },
  {
   "cell_type": "code",
   "execution_count": 23,
   "metadata": {},
   "outputs": [
    {
     "name": "stdout",
     "output_type": "stream",
     "text": [
      "0.9393239901567215\n"
     ]
    }
   ],
   "source": [
    "\n",
    "from sklearn.metrics import r2_score\n",
    "regression = LinearRegression()\n",
    "regression.fit(X_train_poly, y_train)\n",
    "y_pred = regression.predict(X_test_poly)\n",
    "score=r2_score(y_test,y_pred)\n",
    "print(score)"
   ]
  },
  {
   "cell_type": "code",
   "execution_count": 24,
   "metadata": {},
   "outputs": [
    {
     "name": "stdout",
     "output_type": "stream",
     "text": [
      "[[0.         1.5819644  0.50905021]]\n"
     ]
    }
   ],
   "source": [
    "print(regression.coef_)"
   ]
  },
  {
   "cell_type": "code",
   "execution_count": 25,
   "metadata": {},
   "outputs": [
    {
     "name": "stdout",
     "output_type": "stream",
     "text": [
      "[1.84676477]\n"
     ]
    }
   ],
   "source": [
    "print(regression.intercept_)"
   ]
  },
  {
   "cell_type": "code",
   "execution_count": 27,
   "metadata": {},
   "outputs": [
    {
     "data": {
      "text/plain": [
       "<matplotlib.collections.PathCollection at 0x2504c06b610>"
      ]
     },
     "execution_count": 27,
     "metadata": {},
     "output_type": "execute_result"
    },
    {
     "data": {
      "image/png": "[encoded data removed]",
      "text/plain": [
       "<Figure size 432x288 with 1 Axes>"
      ]
     },
     "metadata": {
      "needs_background": "light"
     },
     "output_type": "display_data"
    }
   ],
   "source": [
    "plt.scatter(X_train,regression.predict(X_train_poly))\n",
    "plt.scatter(X_train,y_train)"
   ]
  },
  {
   "cell_type": "code",
   "execution_count": 28,
   "metadata": {},
   "outputs": [],
   "source": [
    "poly=PolynomialFeatures(degree=3,include_bias=True)\n",
    "X_train_poly=poly.fit_transform(X_train)\n",
    "X_test_poly=poly.transform(X_test)"
   ]
  },
  {
   "cell_type": "code",
   "execution_count": 29,
   "metadata": {},
   "outputs": [
    {
     "data": {
      "text/plain": [
       "array([[ 1.00000000e+00, -2.74888188e+00,  7.55635156e+00,\n",
       "        -2.07715179e+01],\n",
       "       [ 1.00000000e+00,  1.43055517e+00,  2.04648809e+00,\n",
       "         2.92761412e+00],\n",
       "       [ 1.00000000e+00,  5.90335028e-01,  3.48495446e-01,\n",
       "         2.05729069e-01],\n",
       "       [ 1.00000000e+00,  8.12149214e-01,  6.59586345e-01,\n",
       "         5.35682531e-01],\n",
       "       [ 1.00000000e+00,  3.66109686e-01,  1.34036303e-01,\n",
       "         4.90719887e-02],\n",
       "       [ 1.00000000e+00,  1.16597431e+00,  1.35949609e+00,\n",
       "         1.58513752e+00],\n",
       "       [ 1.00000000e+00, -3.31206334e-01,  1.09697636e-01,\n",
       "        -3.63325517e-02],\n",
       "       [ 1.00000000e+00, -2.72438731e+00,  7.42228621e+00,\n",
       "        -2.02211824e+01],\n",
       "       [ 1.00000000e+00, -1.75407407e+00,  3.07677584e+00,\n",
       "        -5.39689271e+00],\n",
       "       [ 1.00000000e+00, -2.33894500e+00,  5.47066371e+00,\n",
       "        -1.27955815e+01],\n",
       "       [ 1.00000000e+00,  2.90177215e+00,  8.42028158e+00,\n",
       "         2.44337385e+01],\n",
       "       [ 1.00000000e+00, -6.90515463e-01,  4.76811605e-01,\n",
       "        -3.29245786e-01],\n",
       "       [ 1.00000000e+00, -1.16779767e+00,  1.36375141e+00,\n",
       "        -1.59258572e+00],\n",
       "       [ 1.00000000e+00, -9.74366994e-01,  9.49391039e-01,\n",
       "        -9.25055292e-01],\n",
       "       [ 1.00000000e+00, -1.84913689e+00,  3.41930725e+00,\n",
       "        -6.32276718e+00],\n",
       "       [ 1.00000000e+00, -2.22897028e+00,  4.96830852e+00,\n",
       "        -1.10742120e+01],\n",
       "       [ 1.00000000e+00,  2.90475311e+00,  8.43759060e+00,\n",
       "         2.45091175e+01],\n",
       "       [ 1.00000000e+00,  2.76540282e+00,  7.64745273e+00,\n",
       "         2.11482873e+01],\n",
       "       [ 1.00000000e+00,  1.81653747e-01,  3.29980837e-02,\n",
       "         5.99422555e-03],\n",
       "       [ 1.00000000e+00,  2.98247392e+00,  8.89515071e+00,\n",
       "         2.65295550e+01],\n",
       "       [ 1.00000000e+00,  6.20439630e-02,  3.84945335e-03,\n",
       "         2.38835341e-04],\n",
       "       [ 1.00000000e+00,  2.72378506e+00,  7.41900504e+00,\n",
       "         2.02077751e+01],\n",
       "       [ 1.00000000e+00,  1.57689605e+00,  2.48660115e+00,\n",
       "         3.92111154e+00],\n",
       "       [ 1.00000000e+00,  2.38227522e+00,  5.67523522e+00,\n",
       "         1.35199722e+01],\n",
       "       [ 1.00000000e+00, -1.31982776e+00,  1.74194531e+00,\n",
       "        -2.29906777e+00],\n",
       "       [ 1.00000000e+00,  2.14015731e+00,  4.58027331e+00,\n",
       "         9.80250542e+00],\n",
       "       [ 1.00000000e+00,  4.04438649e-01,  1.63570621e-01,\n",
       "         6.61542809e-02],\n",
       "       [ 1.00000000e+00,  6.41599445e-01,  4.11649847e-01,\n",
       "         2.64114313e-01],\n",
       "       [ 1.00000000e+00, -1.54898329e+00,  2.39934922e+00,\n",
       "        -3.71655183e+00],\n",
       "       [ 1.00000000e+00, -1.34560552e+00,  1.81065422e+00,\n",
       "        -2.43642632e+00],\n",
       "       [ 1.00000000e+00,  2.88459805e+00,  8.32090592e+00,\n",
       "         2.40024690e+01],\n",
       "       [ 1.00000000e+00, -1.53502308e+00,  2.35629585e+00,\n",
       "        -3.61696850e+00],\n",
       "       [ 1.00000000e+00, -2.74044436e+00,  7.51003530e+00,\n",
       "        -2.05808339e+01],\n",
       "       [ 1.00000000e+00, -2.37748636e+00,  5.65244141e+00,\n",
       "        -1.34386024e+01],\n",
       "       [ 1.00000000e+00,  1.48646577e+00,  2.20958049e+00,\n",
       "         3.28446577e+00],\n",
       "       [ 1.00000000e+00, -1.71238020e+00,  2.93224597e+00,\n",
       "        -5.02111995e+00],\n",
       "       [ 1.00000000e+00,  2.03548332e+00,  4.14319233e+00,\n",
       "         8.43339885e+00],\n",
       "       [ 1.00000000e+00, -1.17633641e+00,  1.38376736e+00,\n",
       "        -1.62777594e+00],\n",
       "       [ 1.00000000e+00, -2.17206826e+00,  4.71788052e+00,\n",
       "        -1.02475585e+01],\n",
       "       [ 1.00000000e+00,  2.29770897e+00,  5.27946650e+00,\n",
       "         1.21306775e+01],\n",
       "       [ 1.00000000e+00, -3.28405762e-01,  1.07850344e-01,\n",
       "        -3.54186744e-02],\n",
       "       [ 1.00000000e+00,  9.48361078e-01,  8.99388734e-01,\n",
       "         8.52945270e-01],\n",
       "       [ 1.00000000e+00,  6.53633998e-02,  4.27237404e-03,\n",
       "         2.79256892e-04],\n",
       "       [ 1.00000000e+00, -8.42291468e-01,  7.09454917e-01,\n",
       "        -5.97567824e-01],\n",
       "       [ 1.00000000e+00,  1.32384602e+00,  1.75256828e+00,\n",
       "         2.32013053e+00],\n",
       "       [ 1.00000000e+00,  2.79692305e+00,  7.82277856e+00,\n",
       "         2.18797097e+01],\n",
       "       [ 1.00000000e+00, -2.98722587e+00,  8.92351841e+00,\n",
       "        -2.66565651e+01],\n",
       "       [ 1.00000000e+00,  5.88811141e-01,  3.46698559e-01,\n",
       "         2.04139974e-01],\n",
       "       [ 1.00000000e+00, -1.45924666e+00,  2.12940082e+00,\n",
       "        -3.10732104e+00],\n",
       "       [ 1.00000000e+00,  1.57421615e+00,  2.47815648e+00,\n",
       "         3.90115395e+00],\n",
       "       [ 1.00000000e+00, -2.18117707e+00,  4.75753342e+00,\n",
       "        -1.03770228e+01],\n",
       "       [ 1.00000000e+00,  1.05998407e+00,  1.12356623e+00,\n",
       "         1.19096230e+00],\n",
       "       [ 1.00000000e+00, -6.51568696e-01,  4.24541765e-01,\n",
       "        -2.76618124e-01],\n",
       "       [ 1.00000000e+00,  1.67352100e-01,  2.80067254e-02,\n",
       "         4.68698432e-03],\n",
       "       [ 1.00000000e+00,  2.66287718e+00,  7.09091488e+00,\n",
       "         1.88822354e+01],\n",
       "       [ 1.00000000e+00, -2.02883126e+00,  4.11615630e+00,\n",
       "        -8.35098659e+00],\n",
       "       [ 1.00000000e+00, -1.51118982e+00,  2.28369468e+00,\n",
       "        -3.45109615e+00],\n",
       "       [ 1.00000000e+00, -1.84252834e+00,  3.39491068e+00,\n",
       "        -6.25521913e+00],\n",
       "       [ 1.00000000e+00, -1.07136262e+00,  1.14781785e+00,\n",
       "        -1.22972914e+00],\n",
       "       [ 1.00000000e+00,  9.97213919e-01,  9.94435599e-01,\n",
       "         9.91665021e-01],\n",
       "       [ 1.00000000e+00,  1.51736778e+00,  2.30240497e+00,\n",
       "         3.49359510e+00],\n",
       "       [ 1.00000000e+00,  2.39182148e+00,  5.72081002e+00,\n",
       "         1.36831563e+01],\n",
       "       [ 1.00000000e+00, -1.86558636e+00,  3.48041246e+00,\n",
       "        -6.49301000e+00],\n",
       "       [ 1.00000000e+00, -4.57496373e-01,  2.09302931e-01,\n",
       "        -9.57553318e-02],\n",
       "       [ 1.00000000e+00, -1.68216491e-01,  2.82967880e-02,\n",
       "        -4.75998639e-03],\n",
       "       [ 1.00000000e+00, -1.18273184e-01,  1.39885461e-02,\n",
       "        -1.65446989e-03],\n",
       "       [ 1.00000000e+00,  2.98594938e+00,  8.91589371e+00,\n",
       "         2.66224073e+01],\n",
       "       [ 1.00000000e+00, -5.55373741e-01,  3.08439992e-01,\n",
       "        -1.71299472e-01],\n",
       "       [ 1.00000000e+00, -6.37420188e-02,  4.06304496e-03,\n",
       "        -2.58986688e-04],\n",
       "       [ 1.00000000e+00, -2.82811213e+00,  7.99821821e+00,\n",
       "        -2.26198579e+01],\n",
       "       [ 1.00000000e+00, -1.20194221e+00,  1.44466507e+00,\n",
       "        -1.73640392e+00],\n",
       "       [ 1.00000000e+00, -2.93675059e+00,  8.62450403e+00,\n",
       "        -2.53280173e+01],\n",
       "       [ 1.00000000e+00, -2.42876800e+00,  5.89891398e+00,\n",
       "        -1.43270935e+01],\n",
       "       [ 1.00000000e+00,  6.02873835e-01,  3.63456861e-01,\n",
       "         2.19118631e-01],\n",
       "       [ 1.00000000e+00, -1.89233256e+00,  3.58092252e+00,\n",
       "        -6.77629629e+00],\n",
       "       [ 1.00000000e+00,  1.74384467e+00,  3.04099423e+00,\n",
       "         5.30302159e+00],\n",
       "       [ 1.00000000e+00, -1.59039281e-01,  2.52934931e-02,\n",
       "        -4.02265896e-03],\n",
       "       [ 1.00000000e+00,  3.17628577e-02,  1.00887913e-03,\n",
       "         3.20448841e-05],\n",
       "       [ 1.00000000e+00, -1.13953099e+00,  1.29853087e+00,\n",
       "        -1.47971616e+00],\n",
       "       [ 1.00000000e+00,  2.62214178e+00,  6.87562751e+00,\n",
       "         1.80288702e+01]])"
      ]
     },
     "execution_count": 29,
     "metadata": {},
     "output_type": "execute_result"
    }
   ],
   "source": [
    "X_train_poly"
   ]
  },
  {
   "cell_type": "code",
   "execution_count": 30,
   "metadata": {},
   "outputs": [
    {
     "name": "stdout",
     "output_type": "stream",
     "text": [
      "0.9343611155722256\n"
     ]
    }
   ],
   "source": [
    "\n",
    "from sklearn.metrics import r2_score\n",
    "regression = LinearRegression()\n",
    "regression.fit(X_train_poly, y_train)\n",
    "y_pred = regression.predict(X_test_poly)\n",
    "score=r2_score(y_test,y_pred)\n",
    "print(score)"
   ]
  },
  {
   "cell_type": "code",
   "execution_count": 31,
   "metadata": {},
   "outputs": [
    {
     "data": {
      "text/plain": [
       "array([[ 1.00000000e+00, -3.00000000e+00,  9.00000000e+00,\n",
       "        -2.70000000e+01],\n",
       "       [ 1.00000000e+00, -2.96984925e+00,  8.82000455e+00,\n",
       "        -2.61940839e+01],\n",
       "       [ 1.00000000e+00, -2.93969849e+00,  8.64182723e+00,\n",
       "        -2.54043665e+01],\n",
       "       [ 1.00000000e+00, -2.90954774e+00,  8.46546804e+00,\n",
       "        -2.46306834e+01],\n",
       "       [ 1.00000000e+00, -2.87939698e+00,  8.29092700e+00,\n",
       "        -2.38728702e+01],\n",
       "       [ 1.00000000e+00, -2.84924623e+00,  8.11820409e+00,\n",
       "        -2.31307624e+01],\n",
       "       [ 1.00000000e+00, -2.81909548e+00,  7.94729931e+00,\n",
       "        -2.24041955e+01],\n",
       "       [ 1.00000000e+00, -2.78894472e+00,  7.77821267e+00,\n",
       "        -2.16930052e+01],\n",
       "       [ 1.00000000e+00, -2.75879397e+00,  7.61094417e+00,\n",
       "        -2.09970269e+01],\n",
       "       [ 1.00000000e+00, -2.72864322e+00,  7.44549380e+00,\n",
       "        -2.03160961e+01],\n",
       "       [ 1.00000000e+00, -2.69849246e+00,  7.28186157e+00,\n",
       "        -1.96500486e+01],\n",
       "       [ 1.00000000e+00, -2.66834171e+00,  7.12004747e+00,\n",
       "        -1.89987196e+01],\n",
       "       [ 1.00000000e+00, -2.63819095e+00,  6.96005151e+00,\n",
       "        -1.83619449e+01],\n",
       "       [ 1.00000000e+00, -2.60804020e+00,  6.80187369e+00,\n",
       "        -1.77395600e+01],\n",
       "       [ 1.00000000e+00, -2.57788945e+00,  6.64551400e+00,\n",
       "        -1.71314004e+01],\n",
       "       [ 1.00000000e+00, -2.54773869e+00,  6.49097245e+00,\n",
       "        -1.65373017e+01],\n",
       "       [ 1.00000000e+00, -2.51758794e+00,  6.33824903e+00,\n",
       "        -1.59570993e+01],\n",
       "       [ 1.00000000e+00, -2.48743719e+00,  6.18734375e+00,\n",
       "        -1.53906289e+01],\n",
       "       [ 1.00000000e+00, -2.45728643e+00,  6.03825661e+00,\n",
       "        -1.48377260e+01],\n",
       "       [ 1.00000000e+00, -2.42713568e+00,  5.89098760e+00,\n",
       "        -1.42982262e+01],\n",
       "       [ 1.00000000e+00, -2.39698492e+00,  5.74553673e+00,\n",
       "        -1.37719649e+01],\n",
       "       [ 1.00000000e+00, -2.36683417e+00,  5.60190399e+00,\n",
       "        -1.32587778e+01],\n",
       "       [ 1.00000000e+00, -2.33668342e+00,  5.46008939e+00,\n",
       "        -1.27585003e+01],\n",
       "       [ 1.00000000e+00, -2.30653266e+00,  5.32009293e+00,\n",
       "        -1.22709681e+01],\n",
       "       [ 1.00000000e+00, -2.27638191e+00,  5.18191460e+00,\n",
       "        -1.17960166e+01],\n",
       "       [ 1.00000000e+00, -2.24623116e+00,  5.04555441e+00,\n",
       "        -1.13334815e+01],\n",
       "       [ 1.00000000e+00, -2.21608040e+00,  4.91101235e+00,\n",
       "        -1.08831982e+01],\n",
       "       [ 1.00000000e+00, -2.18592965e+00,  4.77828843e+00,\n",
       "        -1.04450023e+01],\n",
       "       [ 1.00000000e+00, -2.15577889e+00,  4.64738264e+00,\n",
       "        -1.00187294e+01],\n",
       "       [ 1.00000000e+00, -2.12562814e+00,  4.51829499e+00,\n",
       "        -9.60421498e+00],\n",
       "       [ 1.00000000e+00, -2.09547739e+00,  4.39102548e+00,\n",
       "        -9.20129460e+00],\n",
       "       [ 1.00000000e+00, -2.06532663e+00,  4.26557410e+00,\n",
       "        -8.80980380e+00],\n",
       "       [ 1.00000000e+00, -2.03517588e+00,  4.14194086e+00,\n",
       "        -8.42957813e+00],\n",
       "       [ 1.00000000e+00, -2.00502513e+00,  4.02012575e+00,\n",
       "        -8.06045315e+00],\n",
       "       [ 1.00000000e+00, -1.97487437e+00,  3.90012878e+00,\n",
       "        -7.70226438e+00],\n",
       "       [ 1.00000000e+00, -1.94472362e+00,  3.78194995e+00,\n",
       "        -7.35484739e+00],\n",
       "       [ 1.00000000e+00, -1.91457286e+00,  3.66558925e+00,\n",
       "        -7.01803772e+00],\n",
       "       [ 1.00000000e+00, -1.88442211e+00,  3.55104669e+00,\n",
       "        -6.69167090e+00],\n",
       "       [ 1.00000000e+00, -1.85427136e+00,  3.43832226e+00,\n",
       "        -6.37558249e+00],\n",
       "       [ 1.00000000e+00, -1.82412060e+00,  3.32741597e+00,\n",
       "        -6.06960803e+00],\n",
       "       [ 1.00000000e+00, -1.79396985e+00,  3.21832782e+00,\n",
       "        -5.77358307e+00],\n",
       "       [ 1.00000000e+00, -1.76381910e+00,  3.11105780e+00,\n",
       "        -5.48734316e+00],\n",
       "       [ 1.00000000e+00, -1.73366834e+00,  3.00560592e+00,\n",
       "        -5.21072383e+00],\n",
       "       [ 1.00000000e+00, -1.70351759e+00,  2.90197217e+00,\n",
       "        -4.94356064e+00],\n",
       "       [ 1.00000000e+00, -1.67336683e+00,  2.80015656e+00,\n",
       "        -4.68568912e+00],\n",
       "       [ 1.00000000e+00, -1.64321608e+00,  2.70015909e+00,\n",
       "        -4.43694483e+00],\n",
       "       [ 1.00000000e+00, -1.61306533e+00,  2.60197975e+00,\n",
       "        -4.19716331e+00],\n",
       "       [ 1.00000000e+00, -1.58291457e+00,  2.50561854e+00,\n",
       "        -3.96618011e+00],\n",
       "       [ 1.00000000e+00, -1.55276382e+00,  2.41107548e+00,\n",
       "        -3.74383077e+00],\n",
       "       [ 1.00000000e+00, -1.52261307e+00,  2.31835055e+00,\n",
       "        -3.52995083e+00],\n",
       "       [ 1.00000000e+00, -1.49246231e+00,  2.22744375e+00,\n",
       "        -3.32437585e+00],\n",
       "       [ 1.00000000e+00, -1.46231156e+00,  2.13835509e+00,\n",
       "        -3.12694137e+00],\n",
       "       [ 1.00000000e+00, -1.43216080e+00,  2.05108457e+00,\n",
       "        -2.93748292e+00],\n",
       "       [ 1.00000000e+00, -1.40201005e+00,  1.96563218e+00,\n",
       "        -2.75583607e+00],\n",
       "       [ 1.00000000e+00, -1.37185930e+00,  1.88199793e+00,\n",
       "        -2.58183636e+00],\n",
       "       [ 1.00000000e+00, -1.34170854e+00,  1.80018181e+00,\n",
       "        -2.41531932e+00],\n",
       "       [ 1.00000000e+00, -1.31155779e+00,  1.72018383e+00,\n",
       "        -2.25612051e+00],\n",
       "       [ 1.00000000e+00, -1.28140704e+00,  1.64200399e+00,\n",
       "        -2.10407546e+00],\n",
       "       [ 1.00000000e+00, -1.25125628e+00,  1.56564228e+00,\n",
       "        -1.95901974e+00],\n",
       "       [ 1.00000000e+00, -1.22110553e+00,  1.49109871e+00,\n",
       "        -1.82078888e+00],\n",
       "       [ 1.00000000e+00, -1.19095477e+00,  1.41837327e+00,\n",
       "        -1.68921842e+00],\n",
       "       [ 1.00000000e+00, -1.16080402e+00,  1.34746597e+00,\n",
       "        -1.56414392e+00],\n",
       "       [ 1.00000000e+00, -1.13065327e+00,  1.27837681e+00,\n",
       "        -1.44540091e+00],\n",
       "       [ 1.00000000e+00, -1.10050251e+00,  1.21110578e+00,\n",
       "        -1.33282495e+00],\n",
       "       [ 1.00000000e+00, -1.07035176e+00,  1.14565289e+00,\n",
       "        -1.22625158e+00],\n",
       "       [ 1.00000000e+00, -1.04020101e+00,  1.08201813e+00,\n",
       "        -1.12551635e+00],\n",
       "       [ 1.00000000e+00, -1.01005025e+00,  1.02020151e+00,\n",
       "        -1.03045479e+00],\n",
       "       [ 1.00000000e+00, -9.79899497e-01,  9.60203025e-01,\n",
       "        -9.40902462e-01],\n",
       "       [ 1.00000000e+00, -9.49748744e-01,  9.02022676e-01,\n",
       "        -8.56694904e-01],\n",
       "       [ 1.00000000e+00, -9.19597990e-01,  8.45660463e-01,\n",
       "        -7.77667662e-01],\n",
       "       [ 1.00000000e+00, -8.89447236e-01,  7.91116386e-01,\n",
       "        -7.03656283e-01],\n",
       "       [ 1.00000000e+00, -8.59296482e-01,  7.38390445e-01,\n",
       "        -6.34496312e-01],\n",
       "       [ 1.00000000e+00, -8.29145729e-01,  6.87482639e-01,\n",
       "        -5.70023294e-01],\n",
       "       [ 1.00000000e+00, -7.98994975e-01,  6.38392970e-01,\n",
       "        -5.10072775e-01],\n",
       "       [ 1.00000000e+00, -7.68844221e-01,  5.91121436e-01,\n",
       "        -4.54480300e-01],\n",
       "       [ 1.00000000e+00, -7.38693467e-01,  5.45668039e-01,\n",
       "        -4.03081416e-01],\n",
       "       [ 1.00000000e+00, -7.08542714e-01,  5.02032777e-01,\n",
       "        -3.55711666e-01],\n",
       "       [ 1.00000000e+00, -6.78391960e-01,  4.60215651e-01,\n",
       "        -3.12206597e-01],\n",
       "       [ 1.00000000e+00, -6.48241206e-01,  4.20216661e-01,\n",
       "        -2.72401755e-01],\n",
       "       [ 1.00000000e+00, -6.18090452e-01,  3.82035807e-01,\n",
       "        -2.36132685e-01],\n",
       "       [ 1.00000000e+00, -5.87939698e-01,  3.45673089e-01,\n",
       "        -2.03234932e-01],\n",
       "       [ 1.00000000e+00, -5.57788945e-01,  3.11128507e-01,\n",
       "        -1.73544042e-01],\n",
       "       [ 1.00000000e+00, -5.27638191e-01,  2.78402061e-01,\n",
       "        -1.46895560e-01],\n",
       "       [ 1.00000000e+00, -4.97487437e-01,  2.47493750e-01,\n",
       "        -1.23125031e-01],\n",
       "       [ 1.00000000e+00, -4.67336683e-01,  2.18403576e-01,\n",
       "        -1.02068003e-01],\n",
       "       [ 1.00000000e+00, -4.37185930e-01,  1.91131537e-01,\n",
       "        -8.35600187e-02],\n",
       "       [ 1.00000000e+00, -4.07035176e-01,  1.65677634e-01,\n",
       "        -6.74366251e-02],\n",
       "       [ 1.00000000e+00, -3.76884422e-01,  1.42041868e-01,\n",
       "        -5.35333672e-02],\n",
       "       [ 1.00000000e+00, -3.46733668e-01,  1.20224237e-01,\n",
       "        -4.16857906e-02],\n",
       "       [ 1.00000000e+00, -3.16582915e-01,  1.00224742e-01,\n",
       "        -3.17294409e-02],\n",
       "       [ 1.00000000e+00, -2.86432161e-01,  8.20433827e-02,\n",
       "        -2.34998634e-02],\n",
       "       [ 1.00000000e+00, -2.56281407e-01,  6.56801596e-02,\n",
       "        -1.68326037e-02],\n",
       "       [ 1.00000000e+00, -2.26130653e-01,  5.11350723e-02,\n",
       "        -1.15632073e-02],\n",
       "       [ 1.00000000e+00, -1.95979899e-01,  3.84081210e-02,\n",
       "        -7.52721969e-03],\n",
       "       [ 1.00000000e+00, -1.65829146e-01,  2.74993056e-02,\n",
       "        -4.56018635e-03],\n",
       "       [ 1.00000000e+00, -1.35678392e-01,  1.84086260e-02,\n",
       "        -2.49765278e-03],\n",
       "       [ 1.00000000e+00, -1.05527638e-01,  1.11360824e-02,\n",
       "        -1.17516448e-03],\n",
       "       [ 1.00000000e+00, -7.53768844e-02,  5.68167471e-03,\n",
       "        -4.28266938e-04],\n",
       "       [ 1.00000000e+00, -4.52261307e-02,  2.04540289e-03,\n",
       "        -9.25056585e-05],\n",
       "       [ 1.00000000e+00, -1.50753769e-02,  2.27266988e-04,\n",
       "        -3.42613550e-06],\n",
       "       [ 1.00000000e+00,  1.50753769e-02,  2.27266988e-04,\n",
       "         3.42613550e-06],\n",
       "       [ 1.00000000e+00,  4.52261307e-02,  2.04540289e-03,\n",
       "         9.25056585e-05],\n",
       "       [ 1.00000000e+00,  7.53768844e-02,  5.68167471e-03,\n",
       "         4.28266938e-04],\n",
       "       [ 1.00000000e+00,  1.05527638e-01,  1.11360824e-02,\n",
       "         1.17516448e-03],\n",
       "       [ 1.00000000e+00,  1.35678392e-01,  1.84086260e-02,\n",
       "         2.49765278e-03],\n",
       "       [ 1.00000000e+00,  1.65829146e-01,  2.74993056e-02,\n",
       "         4.56018635e-03],\n",
       "       [ 1.00000000e+00,  1.95979899e-01,  3.84081210e-02,\n",
       "         7.52721969e-03],\n",
       "       [ 1.00000000e+00,  2.26130653e-01,  5.11350723e-02,\n",
       "         1.15632073e-02],\n",
       "       [ 1.00000000e+00,  2.56281407e-01,  6.56801596e-02,\n",
       "         1.68326037e-02],\n",
       "       [ 1.00000000e+00,  2.86432161e-01,  8.20433827e-02,\n",
       "         2.34998634e-02],\n",
       "       [ 1.00000000e+00,  3.16582915e-01,  1.00224742e-01,\n",
       "         3.17294409e-02],\n",
       "       [ 1.00000000e+00,  3.46733668e-01,  1.20224237e-01,\n",
       "         4.16857906e-02],\n",
       "       [ 1.00000000e+00,  3.76884422e-01,  1.42041868e-01,\n",
       "         5.35333672e-02],\n",
       "       [ 1.00000000e+00,  4.07035176e-01,  1.65677634e-01,\n",
       "         6.74366251e-02],\n",
       "       [ 1.00000000e+00,  4.37185930e-01,  1.91131537e-01,\n",
       "         8.35600187e-02],\n",
       "       [ 1.00000000e+00,  4.67336683e-01,  2.18403576e-01,\n",
       "         1.02068003e-01],\n",
       "       [ 1.00000000e+00,  4.97487437e-01,  2.47493750e-01,\n",
       "         1.23125031e-01],\n",
       "       [ 1.00000000e+00,  5.27638191e-01,  2.78402061e-01,\n",
       "         1.46895560e-01],\n",
       "       [ 1.00000000e+00,  5.57788945e-01,  3.11128507e-01,\n",
       "         1.73544042e-01],\n",
       "       [ 1.00000000e+00,  5.87939698e-01,  3.45673089e-01,\n",
       "         2.03234932e-01],\n",
       "       [ 1.00000000e+00,  6.18090452e-01,  3.82035807e-01,\n",
       "         2.36132685e-01],\n",
       "       [ 1.00000000e+00,  6.48241206e-01,  4.20216661e-01,\n",
       "         2.72401755e-01],\n",
       "       [ 1.00000000e+00,  6.78391960e-01,  4.60215651e-01,\n",
       "         3.12206597e-01],\n",
       "       [ 1.00000000e+00,  7.08542714e-01,  5.02032777e-01,\n",
       "         3.55711666e-01],\n",
       "       [ 1.00000000e+00,  7.38693467e-01,  5.45668039e-01,\n",
       "         4.03081416e-01],\n",
       "       [ 1.00000000e+00,  7.68844221e-01,  5.91121436e-01,\n",
       "         4.54480300e-01],\n",
       "       [ 1.00000000e+00,  7.98994975e-01,  6.38392970e-01,\n",
       "         5.10072775e-01],\n",
       "       [ 1.00000000e+00,  8.29145729e-01,  6.87482639e-01,\n",
       "         5.70023294e-01],\n",
       "       [ 1.00000000e+00,  8.59296482e-01,  7.38390445e-01,\n",
       "         6.34496312e-01],\n",
       "       [ 1.00000000e+00,  8.89447236e-01,  7.91116386e-01,\n",
       "         7.03656283e-01],\n",
       "       [ 1.00000000e+00,  9.19597990e-01,  8.45660463e-01,\n",
       "         7.77667662e-01],\n",
       "       [ 1.00000000e+00,  9.49748744e-01,  9.02022676e-01,\n",
       "         8.56694904e-01],\n",
       "       [ 1.00000000e+00,  9.79899497e-01,  9.60203025e-01,\n",
       "         9.40902462e-01],\n",
       "       [ 1.00000000e+00,  1.01005025e+00,  1.02020151e+00,\n",
       "         1.03045479e+00],\n",
       "       [ 1.00000000e+00,  1.04020101e+00,  1.08201813e+00,\n",
       "         1.12551635e+00],\n",
       "       [ 1.00000000e+00,  1.07035176e+00,  1.14565289e+00,\n",
       "         1.22625158e+00],\n",
       "       [ 1.00000000e+00,  1.10050251e+00,  1.21110578e+00,\n",
       "         1.33282495e+00],\n",
       "       [ 1.00000000e+00,  1.13065327e+00,  1.27837681e+00,\n",
       "         1.44540091e+00],\n",
       "       [ 1.00000000e+00,  1.16080402e+00,  1.34746597e+00,\n",
       "         1.56414392e+00],\n",
       "       [ 1.00000000e+00,  1.19095477e+00,  1.41837327e+00,\n",
       "         1.68921842e+00],\n",
       "       [ 1.00000000e+00,  1.22110553e+00,  1.49109871e+00,\n",
       "         1.82078888e+00],\n",
       "       [ 1.00000000e+00,  1.25125628e+00,  1.56564228e+00,\n",
       "         1.95901974e+00],\n",
       "       [ 1.00000000e+00,  1.28140704e+00,  1.64200399e+00,\n",
       "         2.10407546e+00],\n",
       "       [ 1.00000000e+00,  1.31155779e+00,  1.72018383e+00,\n",
       "         2.25612051e+00],\n",
       "       [ 1.00000000e+00,  1.34170854e+00,  1.80018181e+00,\n",
       "         2.41531932e+00],\n",
       "       [ 1.00000000e+00,  1.37185930e+00,  1.88199793e+00,\n",
       "         2.58183636e+00],\n",
       "       [ 1.00000000e+00,  1.40201005e+00,  1.96563218e+00,\n",
       "         2.75583607e+00],\n",
       "       [ 1.00000000e+00,  1.43216080e+00,  2.05108457e+00,\n",
       "         2.93748292e+00],\n",
       "       [ 1.00000000e+00,  1.46231156e+00,  2.13835509e+00,\n",
       "         3.12694137e+00],\n",
       "       [ 1.00000000e+00,  1.49246231e+00,  2.22744375e+00,\n",
       "         3.32437585e+00],\n",
       "       [ 1.00000000e+00,  1.52261307e+00,  2.31835055e+00,\n",
       "         3.52995083e+00],\n",
       "       [ 1.00000000e+00,  1.55276382e+00,  2.41107548e+00,\n",
       "         3.74383077e+00],\n",
       "       [ 1.00000000e+00,  1.58291457e+00,  2.50561854e+00,\n",
       "         3.96618011e+00],\n",
       "       [ 1.00000000e+00,  1.61306533e+00,  2.60197975e+00,\n",
       "         4.19716331e+00],\n",
       "       [ 1.00000000e+00,  1.64321608e+00,  2.70015909e+00,\n",
       "         4.43694483e+00],\n",
       "       [ 1.00000000e+00,  1.67336683e+00,  2.80015656e+00,\n",
       "         4.68568912e+00],\n",
       "       [ 1.00000000e+00,  1.70351759e+00,  2.90197217e+00,\n",
       "         4.94356064e+00],\n",
       "       [ 1.00000000e+00,  1.73366834e+00,  3.00560592e+00,\n",
       "         5.21072383e+00],\n",
       "       [ 1.00000000e+00,  1.76381910e+00,  3.11105780e+00,\n",
       "         5.48734316e+00],\n",
       "       [ 1.00000000e+00,  1.79396985e+00,  3.21832782e+00,\n",
       "         5.77358307e+00],\n",
       "       [ 1.00000000e+00,  1.82412060e+00,  3.32741597e+00,\n",
       "         6.06960803e+00],\n",
       "       [ 1.00000000e+00,  1.85427136e+00,  3.43832226e+00,\n",
       "         6.37558249e+00],\n",
       "       [ 1.00000000e+00,  1.88442211e+00,  3.55104669e+00,\n",
       "         6.69167090e+00],\n",
       "       [ 1.00000000e+00,  1.91457286e+00,  3.66558925e+00,\n",
       "         7.01803772e+00],\n",
       "       [ 1.00000000e+00,  1.94472362e+00,  3.78194995e+00,\n",
       "         7.35484739e+00],\n",
       "       [ 1.00000000e+00,  1.97487437e+00,  3.90012878e+00,\n",
       "         7.70226438e+00],\n",
       "       [ 1.00000000e+00,  2.00502513e+00,  4.02012575e+00,\n",
       "         8.06045315e+00],\n",
       "       [ 1.00000000e+00,  2.03517588e+00,  4.14194086e+00,\n",
       "         8.42957813e+00],\n",
       "       [ 1.00000000e+00,  2.06532663e+00,  4.26557410e+00,\n",
       "         8.80980380e+00],\n",
       "       [ 1.00000000e+00,  2.09547739e+00,  4.39102548e+00,\n",
       "         9.20129460e+00],\n",
       "       [ 1.00000000e+00,  2.12562814e+00,  4.51829499e+00,\n",
       "         9.60421498e+00],\n",
       "       [ 1.00000000e+00,  2.15577889e+00,  4.64738264e+00,\n",
       "         1.00187294e+01],\n",
       "       [ 1.00000000e+00,  2.18592965e+00,  4.77828843e+00,\n",
       "         1.04450023e+01],\n",
       "       [ 1.00000000e+00,  2.21608040e+00,  4.91101235e+00,\n",
       "         1.08831982e+01],\n",
       "       [ 1.00000000e+00,  2.24623116e+00,  5.04555441e+00,\n",
       "         1.13334815e+01],\n",
       "       [ 1.00000000e+00,  2.27638191e+00,  5.18191460e+00,\n",
       "         1.17960166e+01],\n",
       "       [ 1.00000000e+00,  2.30653266e+00,  5.32009293e+00,\n",
       "         1.22709681e+01],\n",
       "       [ 1.00000000e+00,  2.33668342e+00,  5.46008939e+00,\n",
       "         1.27585003e+01],\n",
       "       [ 1.00000000e+00,  2.36683417e+00,  5.60190399e+00,\n",
       "         1.32587778e+01],\n",
       "       [ 1.00000000e+00,  2.39698492e+00,  5.74553673e+00,\n",
       "         1.37719649e+01],\n",
       "       [ 1.00000000e+00,  2.42713568e+00,  5.89098760e+00,\n",
       "         1.42982262e+01],\n",
       "       [ 1.00000000e+00,  2.45728643e+00,  6.03825661e+00,\n",
       "         1.48377260e+01],\n",
       "       [ 1.00000000e+00,  2.48743719e+00,  6.18734375e+00,\n",
       "         1.53906289e+01],\n",
       "       [ 1.00000000e+00,  2.51758794e+00,  6.33824903e+00,\n",
       "         1.59570993e+01],\n",
       "       [ 1.00000000e+00,  2.54773869e+00,  6.49097245e+00,\n",
       "         1.65373017e+01],\n",
       "       [ 1.00000000e+00,  2.57788945e+00,  6.64551400e+00,\n",
       "         1.71314004e+01],\n",
       "       [ 1.00000000e+00,  2.60804020e+00,  6.80187369e+00,\n",
       "         1.77395600e+01],\n",
       "       [ 1.00000000e+00,  2.63819095e+00,  6.96005151e+00,\n",
       "         1.83619449e+01],\n",
       "       [ 1.00000000e+00,  2.66834171e+00,  7.12004747e+00,\n",
       "         1.89987196e+01],\n",
       "       [ 1.00000000e+00,  2.69849246e+00,  7.28186157e+00,\n",
       "         1.96500486e+01],\n",
       "       [ 1.00000000e+00,  2.72864322e+00,  7.44549380e+00,\n",
       "         2.03160961e+01],\n",
       "       [ 1.00000000e+00,  2.75879397e+00,  7.61094417e+00,\n",
       "         2.09970269e+01],\n",
       "       [ 1.00000000e+00,  2.78894472e+00,  7.77821267e+00,\n",
       "         2.16930052e+01],\n",
       "       [ 1.00000000e+00,  2.81909548e+00,  7.94729931e+00,\n",
       "         2.24041955e+01],\n",
       "       [ 1.00000000e+00,  2.84924623e+00,  8.11820409e+00,\n",
       "         2.31307624e+01],\n",
       "       [ 1.00000000e+00,  2.87939698e+00,  8.29092700e+00,\n",
       "         2.38728702e+01],\n",
       "       [ 1.00000000e+00,  2.90954774e+00,  8.46546804e+00,\n",
       "         2.46306834e+01],\n",
       "       [ 1.00000000e+00,  2.93969849e+00,  8.64182723e+00,\n",
       "         2.54043665e+01],\n",
       "       [ 1.00000000e+00,  2.96984925e+00,  8.82000455e+00,\n",
       "         2.61940839e+01],\n",
       "       [ 1.00000000e+00,  3.00000000e+00,  9.00000000e+00,\n",
       "         2.70000000e+01]])"
      ]
     },
     "execution_count": 31,
     "metadata": {},
     "output_type": "execute_result"
    }
   ],
   "source": [
    "#3 Prediction of new data set\n",
    "X_new = np.linspace(-3, 3, 200).reshape(200, 1)\n",
    "X_new_poly = poly.transform(X_new)\n",
    "X_new_poly"
   ]
  },
  {
   "cell_type": "code",
   "execution_count": 33,
   "metadata": {},
   "outputs": [
    {
     "data": {
      "image/png": "[encoded data removed]",
      "text/plain": [
       "<Figure size 432x288 with 1 Axes>"
      ]
     },
     "metadata": {
      "needs_background": "light"
     },
     "output_type": "display_data"
    }
   ],
   "source": [
    "y_new = regression.predict(X_new_poly)\n",
    "plt.plot(X_new, y_new, \"r-\", linewidth=2, label=\" New Predictions\")\n",
    "plt.plot(X_train, y_train, \"b.\",label='Training points')\n",
    "plt.plot(X_test, y_test, \"g.\",label='Testing points')\n",
    "plt.xlabel(\"X\")\n",
    "plt.ylabel(\"y\")\n",
    "plt.legend()\n",
    "plt.show()"
   ]
  },
  {
   "cell_type": "markdown",
   "metadata": {},
   "source": [
    "## Pipeline Concepts "
   ]
  },
  {
   "cell_type": "code",
   "execution_count": 34,
   "metadata": {},
   "outputs": [],
   "source": [
    "from sklearn.pipeline import Pipeline"
   ]
  },
  {
   "cell_type": "code",
   "execution_count": 46,
   "metadata": {},
   "outputs": [],
   "source": [
    "def poly_regression(degree):\n",
    "    X_new = np.linspace(-3, 3, 200).reshape(200, 1)\n",
    "    \n",
    "    poly_features=PolynomialFeatures(degree=degree,include_bias=True)\n",
    "    lin_reg=LinearRegression()\n",
    "    poly_regression=Pipeline([\n",
    "        (\"poly_features\",poly_features),\n",
    "        (\"lin_reg\",lin_reg)\n",
    "    ])\n",
    "    poly_regression.fit(X_train,y_train) ## ploynomial and fit of linear reression\n",
    "    y_pred_new=poly_regression.predict(X_new)\n",
    "    #plotting prediction line\n",
    "    plt.plot(X_new, y_pred_new,'r', label=\"Degree \" + str(degree), linewidth=2)\n",
    "    plt.plot(X_train, y_train, \"b.\", linewidth=3)\n",
    "    plt.plot(X_test, y_test, \"g.\", linewidth=3)\n",
    "    plt.legend(loc=\"upper left\")\n",
    "    plt.xlabel(\"X\")\n",
    "    plt.ylabel(\"y\")\n",
    "    plt.axis([-4,4, 0, 10])\n",
    "    plt.show()\n",
    "    "
   ]
  },
  {
   "cell_type": "code",
   "execution_count": 53,
   "metadata": {},
   "outputs": [
    {
     "data": {
      "image/png": "[encoded data removed]",
      "text/plain": [
       "<Figure size 432x288 with 1 Axes>"
      ]
     },
     "metadata": {
      "needs_background": "light"
     },
     "output_type": "display_data"
    }
   ],
   "source": [
    "poly_regression(6)"
   ]
  },
  {
   "cell_type": "code",
   "execution_count": null,
   "metadata": {},
   "outputs": [],
   "source": []
  }
 ],
 "metadata": {
  "kernelspec": {
   "display_name": "Python 3",
   "language": "python",
   "name": "python3"
  },
  "language_info": {
   "codemirror_mode": {
    "name": "ipython",
    "version": 3
   },
   "file_extension": ".py",
   "mimetype": "text/x-python",
   "name": "python",
   "nbconvert_exporter": "python",
   "pygments_lexer": "ipython3",
   "version": "3.8.5"
  }
 },
 "nbformat": 4,
 "nbformat_minor": 4
}
